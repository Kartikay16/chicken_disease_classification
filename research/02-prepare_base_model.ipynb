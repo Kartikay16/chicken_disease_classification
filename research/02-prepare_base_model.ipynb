{
 "cells": [
  {
   "cell_type": "code",
   "execution_count": 1,
   "metadata": {},
   "outputs": [],
   "source": [
    "import os "
   ]
  },
  {
   "cell_type": "code",
   "execution_count": 2,
   "metadata": {},
   "outputs": [
    {
     "data": {
      "text/plain": [
       "'c:\\\\Users\\\\gkart\\\\Desktop\\\\1-ProjectENDtoEND\\\\chicken_disease_classification\\\\research'"
      ]
     },
     "execution_count": 2,
     "metadata": {},
     "output_type": "execute_result"
    }
   ],
   "source": [
    "%pwd"
   ]
  },
  {
   "cell_type": "code",
   "execution_count": 3,
   "metadata": {},
   "outputs": [],
   "source": [
    "os.chdir(\"../\")"
   ]
  },
  {
   "cell_type": "code",
   "execution_count": 4,
   "metadata": {},
   "outputs": [
    {
     "data": {
      "text/plain": [
       "'c:\\\\Users\\\\gkart\\\\Desktop\\\\1-ProjectENDtoEND\\\\chicken_disease_classification'"
      ]
     },
     "execution_count": 4,
     "metadata": {},
     "output_type": "execute_result"
    }
   ],
   "source": [
    "%pwd"
   ]
  },
  {
   "cell_type": "code",
   "execution_count": 5,
   "metadata": {},
   "outputs": [],
   "source": [
    "# Step -Creating/Updating entity\n",
    "from dataclasses import dataclass\n",
    "from pathlib import Path\n",
    "\n",
    "@dataclass(frozen = True)\n",
    "class PrepareBaseModelConfig:\n",
    "    root_dir :Path\n",
    "    base_model_path : Path\n",
    "    updated_base_model_path : Path\n",
    "    params_image_size :list\n",
    "    params_learning_rate :float\n",
    "    params_include_top : bool\n",
    "    params_weights: str \n",
    "    params_classes : int"
   ]
  },
  {
   "cell_type": "code",
   "execution_count": 6,
   "metadata": {},
   "outputs": [],
   "source": [
    "from src.chickenDiseaseClassifier.constants import *\n",
    "from src.chickenDiseaseClassifier.utils.common import read_yaml, create_directories"
   ]
  },
  {
   "cell_type": "code",
   "execution_count": null,
   "metadata": {},
   "outputs": [],
   "source": [
    "# Step - Creating/Updating Configuration Manager\n",
    "\n",
    "class ConfigurationManager:\n",
    "    def __init__(self,config = CONFIG_FILE_PATH, param = PARAM_FILE_PATH):\n",
    "        self.config = read_yaml(config)\n",
    "        self.param = read_yaml(param)\n",
    "\n",
    "        create_directories([self.config.artifacts_root])\n",
    "\n",
    "    def get_prepare_base_model_configuration(self) -> PrepareBaseModelConfig :\n",
    "        config = self.config.prepare_base_model\n",
    "\n",
    "        prepare_base_model_config = PrepareBaseModelConfig(\n",
    "                                                root_dir = Path(config.root_dir),\n",
    "                                                base_model_path = Path(config.base_model_path),\n",
    "                                                updated_base_model_path= Path(config.updated_base_model_path),\n",
    "                                                params_image_size = self.param.IMAGE_SIZE,\n",
    "                                                params_learning_rate = self.param.LEARNING_RATE,\n",
    "                                                params_include_top = self.param.INCLUDE_TOP,\n",
    "                                                params_weights = self.param.WEIGHTS,\n",
    "                                                params_classes = self.param.CLASSES\n",
    "                                                )\n",
    "        return prepare_base_model_config"
   ]
  },
  {
   "cell_type": "code",
   "execution_count": 50,
   "metadata": {},
   "outputs": [],
   "source": [
    "# Step - Creating/Updating Components\n",
    "\n",
    "import tensorflow as tf\n",
    "from keras.applications.vgg16 import VGG16\n",
    "from keras.layers import Flatten,Dense\n",
    "from keras.models import Sequential\n",
    "\n",
    "class PrepareBaseModel:\n",
    "\n",
    "    def __init__(self, config :PrepareBaseModelConfig):\n",
    "        self.config = config\n",
    "\n",
    "    def get_base_model(self):\n",
    "        self.model = VGG16(include_top = self.config.params_include_top, input_shape = self.config.params_image_size, weights = self.config.params_weights)\n",
    "        self.save_model(path = self.config.base_model_path, model = self.model)\n",
    "    \n",
    "    @staticmethod\n",
    "    def save_model(path,model):\n",
    "        model.save(path)\n",
    "\n",
    "    @staticmethod\n",
    "    def prepare_full_base_model(model,learning_rate,classes):\n",
    "\n",
    "        for layer in model.layers:\n",
    "            layer.trainable = False\n",
    "        \n",
    "        model = Sequential(model)\n",
    "        model.add(Flatten())\n",
    "        dense_layer1 = Dense(units = classes, activation = \"softmax\")\n",
    "        model.add(dense_layer1)\n",
    "\n",
    "        model.compile( optimizer= tf.keras.optimizers.SGD(learning_rate=learning_rate),loss = tf.keras.losses.CategoricalCrossentropy(),metrics = ['accuracy'])\n",
    "        model.summary()\n",
    "        return model \n",
    "    \n",
    "    def update_full_model(self):\n",
    "        self.full_model = self.prepare_full_base_model(model = self.model,learning_rate = self.config.params_learning_rate, classes = self.config.params_classes)\n",
    "        self.save_model(self.config.updated_base_model_path,self.full_model)\n",
    "   "
   ]
  },
  {
   "cell_type": "code",
   "execution_count": 51,
   "metadata": {},
   "outputs": [
    {
     "name": "stdout",
     "output_type": "stream",
     "text": [
      "[2023-08-01 15:26:51,866: INFO: common: yaml file : config\\config.yaml loaded sucesfully]\n",
      "[2023-08-01 15:26:52,159: INFO: common: yaml file : params.yaml loaded sucesfully]\n",
      "[2023-08-01 15:26:52,354: INFO: common: Create directory at : artifacts]\n",
      "artifacts\\prepare_base_model\\base_model.h5\n",
      "[2023-08-01 15:27:26,796: WARNING: saving_utils: Compiled the loaded model, but the compiled metrics have yet to be built. `model.compile_metrics` will be empty until you train or evaluate the model.]\n"
     ]
    },
    {
     "name": "stderr",
     "output_type": "stream",
     "text": [
      "c:\\Users\\gkart\\Anaconda3\\envs\\chicken\\lib\\site-packages\\keras\\src\\engine\\training.py:3000: UserWarning: You are saving your model as an HDF5 file via `model.save()`. This file format is considered legacy. We recommend using instead the native Keras format, e.g. `model.save('my_model.keras')`.\n",
      "  saving_api.save_model(\n"
     ]
    },
    {
     "name": "stdout",
     "output_type": "stream",
     "text": [
      "Model: \"sequential\"\n",
      "_________________________________________________________________\n",
      " Layer (type)                Output Shape              Param #   \n",
      "=================================================================\n",
      " vgg16 (Functional)          (None, 7, 7, 512)         14714688  \n",
      "                                                                 \n",
      " flatten (Flatten)           (None, 25088)             0         \n",
      "                                                                 \n",
      " dense (Dense)               (None, 2)                 50178     \n",
      "                                                                 \n",
      "=================================================================\n",
      "Total params: 14764866 (56.32 MB)\n",
      "Trainable params: 50178 (196.01 KB)\n",
      "Non-trainable params: 14714688 (56.13 MB)\n",
      "_________________________________________________________________\n"
     ]
    },
    {
     "ename": "NameError",
     "evalue": "name 'save_model' is not defined",
     "output_type": "error",
     "traceback": [
      "\u001b[1;31m---------------------------------------------------------------------------\u001b[0m",
      "\u001b[1;31mNameError\u001b[0m                                 Traceback (most recent call last)",
      "Cell \u001b[1;32mIn[51], line 11\u001b[0m\n\u001b[0;32m      9\u001b[0m     prepare_base_model\u001b[39m.\u001b[39mupdate_full_model()\n\u001b[0;32m     10\u001b[0m \u001b[39mexcept\u001b[39;00m \u001b[39mException\u001b[39;00m \u001b[39mas\u001b[39;00m e:\n\u001b[1;32m---> 11\u001b[0m     \u001b[39mraise\u001b[39;00m e\n",
      "Cell \u001b[1;32mIn[51], line 9\u001b[0m\n\u001b[0;32m      7\u001b[0m     \u001b[39mprint\u001b[39m(prepare_base_model_config\u001b[39m.\u001b[39mbase_model_path)\n\u001b[0;32m      8\u001b[0m     prepare_base_model\u001b[39m.\u001b[39mget_base_model()\n\u001b[1;32m----> 9\u001b[0m     prepare_base_model\u001b[39m.\u001b[39;49mupdate_full_model()\n\u001b[0;32m     10\u001b[0m \u001b[39mexcept\u001b[39;00m \u001b[39mException\u001b[39;00m \u001b[39mas\u001b[39;00m e:\n\u001b[0;32m     11\u001b[0m     \u001b[39mraise\u001b[39;00m e\n",
      "Cell \u001b[1;32mIn[50], line 34\u001b[0m, in \u001b[0;36mPrepareBaseModel.update_full_model\u001b[1;34m(self)\u001b[0m\n\u001b[0;32m     32\u001b[0m \u001b[39mdef\u001b[39;00m \u001b[39mupdate_full_model\u001b[39m(\u001b[39mself\u001b[39m):\n\u001b[0;32m     33\u001b[0m     \u001b[39mself\u001b[39m\u001b[39m.\u001b[39mfull_model \u001b[39m=\u001b[39m \u001b[39mself\u001b[39m\u001b[39m.\u001b[39mprepare_full_base_model(model \u001b[39m=\u001b[39m \u001b[39mself\u001b[39m\u001b[39m.\u001b[39mmodel,learning_rate \u001b[39m=\u001b[39m \u001b[39mself\u001b[39m\u001b[39m.\u001b[39mconfig\u001b[39m.\u001b[39mparams_learning_rate, classes \u001b[39m=\u001b[39m \u001b[39mself\u001b[39m\u001b[39m.\u001b[39mconfig\u001b[39m.\u001b[39mparams_classes)\n\u001b[1;32m---> 34\u001b[0m     save_model(path \u001b[39m=\u001b[39m \u001b[39mself\u001b[39m\u001b[39m.\u001b[39mconfig\u001b[39m.\u001b[39mupdated_base_model_path, model \u001b[39m=\u001b[39m \u001b[39mself\u001b[39m\u001b[39m.\u001b[39mfull_model)\n",
      "\u001b[1;31mNameError\u001b[0m: name 'save_model' is not defined"
     ]
    }
   ],
   "source": [
    "# updating/creating the pipeline\n",
    "\n",
    "try:\n",
    "    configuration_manager = ConfigurationManager()\n",
    "    prepare_base_model_config = configuration_manager.get_prepare_base_model_configuration()\n",
    "    prepare_base_model = PrepareBaseModel(prepare_base_model_config)\n",
    "    print(prepare_base_model_config.base_model_path)\n",
    "    prepare_base_model.get_base_model()\n",
    "    prepare_base_model.update_full_model()\n",
    "except Exception as e:\n",
    "    raise e"
   ]
  }
 ],
 "metadata": {
  "kernelspec": {
   "display_name": "chicken",
   "language": "python",
   "name": "python3"
  },
  "language_info": {
   "codemirror_mode": {
    "name": "ipython",
    "version": 3
   },
   "file_extension": ".py",
   "mimetype": "text/x-python",
   "name": "python",
   "nbconvert_exporter": "python",
   "pygments_lexer": "ipython3",
   "version": "3.8.17"
  },
  "orig_nbformat": 4
 },
 "nbformat": 4,
 "nbformat_minor": 2
}
