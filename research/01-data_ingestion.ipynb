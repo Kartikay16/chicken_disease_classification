{
 "cells": [
  {
   "cell_type": "code",
   "execution_count": 3,
   "metadata": {},
   "outputs": [],
   "source": [
    "import os"
   ]
  },
  {
   "cell_type": "code",
   "execution_count": 4,
   "metadata": {},
   "outputs": [
    {
     "data": {
      "text/plain": [
       "'c:\\\\Users\\\\gkart\\\\Desktop\\\\1-ProjectENDtoEND\\\\chicken_disease_classification\\\\research'"
      ]
     },
     "execution_count": 4,
     "metadata": {},
     "output_type": "execute_result"
    }
   ],
   "source": [
    "%pwd\n",
    "# This command shows that currently i am in research folder so i need to move one step back to be in root folder that\n",
    "# is chicken_disease_classification folder i.e the root folder of this project."
   ]
  },
  {
   "cell_type": "code",
   "execution_count": 5,
   "metadata": {},
   "outputs": [],
   "source": [
    "# To change the directory use command chdir()\n",
    "\n",
    "os.chdir(\"../\")\n",
    "# This \"../\" means move back one folder"
   ]
  },
  {
   "cell_type": "code",
   "execution_count": 6,
   "metadata": {},
   "outputs": [
    {
     "data": {
      "text/plain": [
       "'c:\\\\Users\\\\gkart\\\\Desktop\\\\1-ProjectENDtoEND\\\\chicken_disease_classification'"
      ]
     },
     "execution_count": 6,
     "metadata": {},
     "output_type": "execute_result"
    }
   ],
   "source": [
    "%pwd"
   ]
  },
  {
   "cell_type": "code",
   "execution_count": 55,
   "metadata": {},
   "outputs": [],
   "source": [
    "# Step -Updating/Creating Entity\n",
    "\n",
    "# I can create my own custom return type using entity\n",
    "\n",
    "from dataclasses import dataclass\n",
    "# Data classes simplify the creation of classes that primarily \n",
    "# store data, as they automatically generate special methods like __init__, __repr__, and more.\n",
    "from pathlib import Path\n",
    "\n",
    "\n",
    "# The frozen=True argument makes the class immutable, \n",
    "# meaning that once an instance of this class is created, its attributes cannot be modified\n",
    "@dataclass(frozen = True)\n",
    "class DataIngestionConfig:\n",
    "    root_dir:Path\n",
    "    source_url:Path\n",
    "    local_data_file:Path\n",
    "    unzip_dir:Path"
   ]
  },
  {
   "cell_type": "code",
   "execution_count": 56,
   "metadata": {},
   "outputs": [],
   "source": [
    "from chickenDiseaseClassifier.constants import *\n",
    "from chickenDiseaseClassifier.utils.common import read_yaml,create_directories"
   ]
  },
  {
   "cell_type": "code",
   "execution_count": 57,
   "metadata": {},
   "outputs": [],
   "source": [
    "# Step - Updating/Creating Configuration Manager\n",
    "\n",
    "class ConfigurationManager:\n",
    "    def __init__(self,config_file_path = CONFIG_FILE_PATH,params_file_path = PARAM_FILE_PATH):\n",
    "        \n",
    "        self.config = read_yaml(config_file_path)\n",
    "        self.params = read_yaml(params_file_path)\n",
    "\n",
    "        create_directories([self.config.artifacts_root])\n",
    "\n",
    "    def get_data_ingestion_configuration(self) ->DataIngestionConfig:\n",
    "        config = self.config.data_ingestion\n",
    "        create_directories([config.root_dir])\n",
    "        \n",
    "        data_ingestion_config = DataIngestionConfig(root_dir = config.root_dir,\n",
    "                                                    source_url=config.source_url,\n",
    "                                                    local_data_file = config.local_data_file, \n",
    "                                                    unzip_dir = config.unzip_dir)\n",
    "        return data_ingestion_config"
   ]
  },
  {
   "cell_type": "code",
   "execution_count": 58,
   "metadata": {},
   "outputs": [],
   "source": [
    "# Step - updating/creating Components\n",
    "\n",
    "import os \n",
    "import urllib.request as request #using this urllib.request to download the dataset from the url\n",
    "import zipfile \n",
    "from src.chickenDiseaseClassifier import logger\n",
    "from src.chickenDiseaseClassifier.utils.common import get_size\n",
    "\n",
    "class DataIngestion:\n",
    "    def __init__(self,config: DataIngestionConfig):\n",
    "        self.config = config\n",
    "    \n",
    "    def download_data(self):\n",
    "        if not os.path.exists(self.config.local_data_file):\n",
    "            file_name,headers = request.urlretrieve(url = self.config.source_url, filename = self.config.local_data_file)\n",
    "            # The parameters url and filename are used to specify the source URL from which the file should be downloaded \n",
    "            # and the local file path where it should be saved, respectively.\n",
    "            # The function returns a tuple containing the local file path where the file was saved (file_name) and a \n",
    "            # dictionary containing the response headers from the server (headers).\n",
    "            logger.info(f\"{file_name} download ! with following info : \\n{headers}\")\n",
    "        else:\n",
    "            logger.info(f\"file already exsists of size : {get_size(Path(self.config.local_data_file))}\")\n",
    "    \n",
    "    def extract_zip_file(self):\n",
    "        unzip_path = self.config.unzip_dir\n",
    "        os.makedirs(unzip_path,exist_ok=True)\n",
    "        # The exist_ok=True argument ensures that if the directory already exists, no error will be raised, \n",
    "        # and the function will simply proceed without attempting to create the directory again.\n",
    "\n",
    "        with zipfile.ZipFile(self.config.local_data_file, 'r') as zip_ref:\n",
    "            zip_ref.extractall(unzip_path)"
   ]
  },
  {
   "cell_type": "code",
   "execution_count": 66,
   "metadata": {},
   "outputs": [
    {
     "name": "stdout",
     "output_type": "stream",
     "text": [
      "[2023-07-28 14:35:29,416: INFO: common: yaml file : config\\config.yaml loaded sucesfully]\n",
      "[2023-07-28 14:35:29,423: INFO: common: yaml file : params.yaml loaded sucesfully]\n",
      "[2023-07-28 14:35:29,429: INFO: common: Create directory at : artifacts]\n",
      "[2023-07-28 14:35:29,435: INFO: common: Create directory at : artifacts/data_ingestion]\n"
     ]
    },
    {
     "name": "stdout",
     "output_type": "stream",
     "text": [
      "[2023-07-28 14:36:00,205: INFO: 412483902: artifacts/data_ingestion/data.zip download ! with following info : \n",
      "Connection: close\n",
      "Content-Length: 11616915\n",
      "Cache-Control: max-age=300\n",
      "Content-Security-Policy: default-src 'none'; style-src 'unsafe-inline'; sandbox\n",
      "Content-Type: application/zip\n",
      "ETag: \"adf745abc03891fe493c3be264ec012691fe3fa21d861f35a27edbe6d86a76b1\"\n",
      "Strict-Transport-Security: max-age=31536000\n",
      "X-Content-Type-Options: nosniff\n",
      "X-Frame-Options: deny\n",
      "X-XSS-Protection: 1; mode=block\n",
      "X-GitHub-Request-Id: 9212:31F4B4:40D8C:5BE4B:64C384D8\n",
      "Accept-Ranges: bytes\n",
      "Date: Fri, 28 Jul 2023 09:05:31 GMT\n",
      "Via: 1.1 varnish\n",
      "X-Served-By: cache-del21726-DEL\n",
      "X-Cache: MISS\n",
      "X-Cache-Hits: 0\n",
      "X-Timer: S1690535131.628750,VS0,VE1070\n",
      "Vary: Authorization,Accept-Encoding,Origin\n",
      "Access-Control-Allow-Origin: *\n",
      "Cross-Origin-Resource-Policy: cross-origin\n",
      "X-Fastly-Request-ID: f8a7bc2f443c6719718592db983548ae143ed4bf\n",
      "Expires: Fri, 28 Jul 2023 09:10:31 GMT\n",
      "Source-Age: 1\n",
      "\n",
      "]\n"
     ]
    }
   ],
   "source": [
    "# Now Creating the pipeline\n",
    "\n",
    "try:\n",
    "    configuration_manager = ConfigurationManager()\n",
    "    data_ingestion_configuration  = configuration_manager.get_data_ingestion_configuration()\n",
    "    data_ingestion = DataIngestion(config = data_ingestion_configuration)\n",
    "    data_ingestion.download_data()\n",
    "    data_ingestion.extract_zip_file()\n",
    "except Exception as e:\n",
    "    raise e"
   ]
  },
  {
   "cell_type": "code",
   "execution_count": null,
   "metadata": {},
   "outputs": [],
   "source": [
    "# This was just an experiment notebook . Now converting it inot modular coding. e.g here i have create entity in the same \n",
    "# notebook but now i will create the entity class i.e DataIngestionConfig class in entity folder and also apart from this\n",
    "#  other things will updated in there respective folders.\n",
    "\n",
    "# We dont need to write anything when converting to modular coding. just copy paste the same code."
   ]
  },
  {
   "cell_type": "code",
   "execution_count": null,
   "metadata": {},
   "outputs": [],
   "source": []
  }
 ],
 "metadata": {
  "kernelspec": {
   "display_name": "chicken",
   "language": "python",
   "name": "python3"
  },
  "language_info": {
   "codemirror_mode": {
    "name": "ipython",
    "version": 3
   },
   "file_extension": ".py",
   "mimetype": "text/x-python",
   "name": "python",
   "nbconvert_exporter": "python",
   "pygments_lexer": "ipython3",
   "version": "3.8.17"
  },
  "orig_nbformat": 4
 },
 "nbformat": 4,
 "nbformat_minor": 2
}
