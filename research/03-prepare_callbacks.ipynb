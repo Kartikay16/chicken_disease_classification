{
 "cells": [
  {
   "cell_type": "code",
   "execution_count": 2,
   "metadata": {},
   "outputs": [
    {
     "data": {
      "text/plain": [
       "'c:\\\\Users\\\\gkart\\\\Desktop\\\\1-ProjectENDtoEND\\\\chicken_disease_classification\\\\research'"
      ]
     },
     "execution_count": 2,
     "metadata": {},
     "output_type": "execute_result"
    }
   ],
   "source": [
    "import os \n",
    "%pwd"
   ]
  },
  {
   "cell_type": "code",
   "execution_count": 3,
   "metadata": {},
   "outputs": [
    {
     "data": {
      "text/plain": [
       "'c:\\\\Users\\\\gkart\\\\Desktop\\\\1-ProjectENDtoEND\\\\chicken_disease_classification'"
      ]
     },
     "execution_count": 3,
     "metadata": {},
     "output_type": "execute_result"
    }
   ],
   "source": [
    "os.chdir(\"../\")\n",
    "%pwd"
   ]
  },
  {
   "cell_type": "code",
   "execution_count": 4,
   "metadata": {},
   "outputs": [],
   "source": [
    "from pathlib import Path\n",
    "from dataclasses import dataclass\n",
    "\n",
    "@dataclass(frozen =True)\n",
    "class PrepareCallbacksConfig:\n",
    "    root_dir:Path\n",
    "    tensorboard_root_log_dir:Path\n",
    "    checkpoint_model_filepath:Path"
   ]
  },
  {
   "cell_type": "code",
   "execution_count": 5,
   "metadata": {},
   "outputs": [],
   "source": [
    "from src.chickenDiseaseClassifier.constants import *# Step - creating entity\n",
    "from src.chickenDiseaseClassifier.utils.common import read_yaml, create_directories\n",
    "\n",
    "class ConfigurationManager:\n",
    "    def __init__(self, config = CONFIG_FILE_PATH, param = PARAM_FILE_PATH):\n",
    "        self.config = read_yaml(config)\n",
    "        self.param = read_yaml(param)\n",
    "        create_directories([self.config.artifacts_root])\n",
    "\n",
    "    def get_prepare_callback_config(self) -> PrepareCallbacksConfig:\n",
    "        config = self.config.prepare_callbacks\n",
    "        model_ckpt_dir = os.path.dirname(config.checkpoint_model_filepath)\n",
    "        # This is a function from the os.path module that returns the directory name component of a given file path. \n",
    "        # It takes the file path as an argument and extracts the directory part, excluding the file name\n",
    "        create_directories([Path(model_ckpt_dir),Path(config.tensorboard_root_log_dir)])\n",
    "\n",
    "        prepare_callback_config = PrepareCallbacksConfig(root_dir = config.root_dir, \n",
    "                                                         tensorboard_root_log_dir = config.tensorboard_root_log_dir,\n",
    "                                                         checkpoint_model_filepath = config.checkpoint_model_filepath\n",
    "                                                        )\n",
    "        return prepare_callback_config"
   ]
  },
  {
   "cell_type": "code",
   "execution_count": 8,
   "metadata": {},
   "outputs": [],
   "source": [
    "import time\n",
    "import tensorflow as tf\n",
    "\n",
    "\n",
    "class PrepareCallback:\n",
    "    def __init__(self,config : PrepareCallbacksConfig):\n",
    "        self.config  =config\n",
    "    \n",
    "    @property\n",
    "    #  This is a Python decorator that marks the method as a property.\n",
    "    #  It allows the method to be accessed like an attribute without the need for explicit function call parentheses.\n",
    "    def create_tb_callbacks(self):\n",
    "        timestamp = time.strftime(\"%Y-%m-%d-%H-%M-%S\")\n",
    "        tb_running_log_dir = os.path.join(self.config.tensorboard_root_log_dir, f\"tensorboard_logs_at_{timestamp}\")\n",
    "        \n",
    "\n",
    "        return tf.keras.callbacks.TensorBoard(log_dir  = tb_running_log_dir)\n",
    "        # The code snippet tf.keras.callbacks.TensorBoard(log_dir=tb_running_log_dir) creates a TensorBoard callback \n",
    "        # instance in TensorFlow Keras. \n",
    "        # This callback is used to log training and evaluation metrics during the model training process at the specified position. \n",
    "\n",
    "    @property\n",
    "    def create_checkpoint_callbacks(self):\n",
    "        return tf.keras.callbacks.ModelCheckpoint(self.config.checkpoint_model_filepath,save_best_only=True)\n",
    "    # It is used to save the model's weights during the training process\n",
    "\n",
    "    def get_ckpt_tb_callbacks(self):\n",
    "        return [self.create_tb_callbacks , self.create_checkpoint_callbacks]    "
   ]
  },
  {
   "cell_type": "code",
   "execution_count": 9,
   "metadata": {},
   "outputs": [
    {
     "name": "stdout",
     "output_type": "stream",
     "text": [
      "[2023-08-07 12:59:03,246: INFO: common: yaml file : config\\config.yaml loaded sucesfully]\n",
      "[2023-08-07 12:59:03,261: INFO: common: yaml file : params.yaml loaded sucesfully]\n",
      "[2023-08-07 12:59:03,268: INFO: common: Create directory at : artifacts]\n",
      "[2023-08-07 12:59:03,274: INFO: common: Create directory at : artifacts\\prepare_callbacks\\checkpoint_dir]\n",
      "[2023-08-07 12:59:03,279: INFO: common: Create directory at : artifacts\\prepare_callbacks\\tensorboard_log_dir]\n"
     ]
    }
   ],
   "source": [
    "try:\n",
    "    configuration_manager = ConfigurationManager()\n",
    "    prepare_callbacks_config = configuration_manager.get_prepare_callback_config()\n",
    "    prepare_callback = PrepareCallback(prepare_callbacks_config)\n",
    "    callback_list = prepare_callback.get_ckpt_tb_callbacks()\n",
    "except Exception as e:\n",
    "    raise e\n",
    "\n",
    "    # Note : seprate pipeline is not needed for this callbacks part . whenever we will do training at that time we will use\n",
    "    # this callbacks methods "
   ]
  }
 ],
 "metadata": {
  "kernelspec": {
   "display_name": "chicken",
   "language": "python",
   "name": "python3"
  },
  "language_info": {
   "codemirror_mode": {
    "name": "ipython",
    "version": 3
   },
   "file_extension": ".py",
   "mimetype": "text/x-python",
   "name": "python",
   "nbconvert_exporter": "python",
   "pygments_lexer": "ipython3",
   "version": "3.8.5"
  },
  "orig_nbformat": 4
 },
 "nbformat": 4,
 "nbformat_minor": 2
}
