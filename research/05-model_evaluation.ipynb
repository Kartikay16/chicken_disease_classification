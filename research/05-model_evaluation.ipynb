{
 "cells": [
  {
   "cell_type": "code",
   "execution_count": 1,
   "metadata": {},
   "outputs": [
    {
     "name": "stdout",
     "output_type": "stream",
     "text": [
      "Namastey\n"
     ]
    }
   ],
   "source": [
    "print(\"Namastey\")"
   ]
  },
  {
   "cell_type": "code",
   "execution_count": 2,
   "metadata": {},
   "outputs": [],
   "source": [
    "import os "
   ]
  },
  {
   "cell_type": "code",
   "execution_count": 3,
   "metadata": {},
   "outputs": [
    {
     "data": {
      "text/plain": [
       "'c:\\\\Users\\\\gkart\\\\Desktop\\\\1-ProjectENDtoEND\\\\chicken_disease_classification\\\\research'"
      ]
     },
     "execution_count": 3,
     "metadata": {},
     "output_type": "execute_result"
    }
   ],
   "source": [
    "%pwd"
   ]
  },
  {
   "cell_type": "code",
   "execution_count": 4,
   "metadata": {},
   "outputs": [
    {
     "data": {
      "text/plain": [
       "'c:\\\\Users\\\\gkart\\\\Desktop\\\\1-ProjectENDtoEND\\\\chicken_disease_classification'"
      ]
     },
     "execution_count": 4,
     "metadata": {},
     "output_type": "execute_result"
    }
   ],
   "source": [
    "os.chdir('../')\n",
    "%pwd"
   ]
  },
  {
   "cell_type": "code",
   "execution_count": 5,
   "metadata": {},
   "outputs": [],
   "source": [
    "import tensorflow as tf\n",
    "model = tf.keras.models.load_model(\"artifacts/training/model.h5\")"
   ]
  },
  {
   "cell_type": "code",
   "execution_count": 6,
   "metadata": {},
   "outputs": [],
   "source": [
    "from pathlib import Path\n",
    "from dataclasses import dataclass\n",
    "\n",
    "\n",
    "@dataclass\n",
    "class EvaluationConfig:\n",
    "    path_of_model:Path\n",
    "    training_data:Path\n",
    "    all_params: dict\n",
    "    params_image_size:list\n",
    "    params_batch_size:list"
   ]
  },
  {
   "cell_type": "code",
   "execution_count": 7,
   "metadata": {},
   "outputs": [],
   "source": [
    "# Step - creating entity\n",
    "from src.chickenDiseaseClassifier.constants import *\n",
    "from src.chickenDiseaseClassifier.utils.common import read_yaml, create_directories,save_json\n",
    "\n",
    "class ConfigurationManager:\n",
    "    def __init__(self,config = CONFIG_FILE_PATH,param = PARAM_FILE_PATH):\n",
    "        self.config = read_yaml(config)\n",
    "        self.params = read_yaml(param)\n",
    "\n",
    "        create_directories([self.config.artifacts_root])\n",
    "\n",
    "    def get_evaluation_config(self) -> EvaluationConfig:\n",
    "\n",
    "        evaluation_config = EvaluationConfig(\n",
    "                                        path_of_model = self.config.training.trained_model_path,\n",
    "                                        training_data = os.path.join(self.config.data_ingestion.unzip_dir , \"Chicken-fecal-images\"),\n",
    "                                        all_params = self.params,\n",
    "                                        params_image_size= self.params.IMAGE_SIZE,\n",
    "                                        params_batch_size = self.params.BATCH_SIZE\n",
    "        )\n",
    "        return evaluation_config"
   ]
  },
  {
   "cell_type": "code",
   "execution_count": 10,
   "metadata": {},
   "outputs": [],
   "source": [
    "import tensorflow as tf\n",
    "\n",
    "class Evaluation:\n",
    "    def __init__(self,config :EvaluationConfig):\n",
    "            self.config = config\n",
    "    \n",
    "\n",
    "    def get_valid_generator(self):\n",
    "\n",
    "        datagenerator_kwargs ={\"validation_split\" :0.2,\"rescale\" : 1./255}\n",
    "\n",
    "        data_generator = tf.keras.preprocessing.image.ImageDataGenerator(**datagenerator_kwargs)\n",
    "        \n",
    "\n",
    "        dataflow_kwargs = {\"target_size\" :self.config.params_image_size[:-1],\"batch_size\":self.config.params_batch_size,\"interpolation\" : \"bilinear\"}\n",
    "        self.valid_generator = data_generator.flow_from_directory(directory = self.config.training_data, subset = \"validation\",shuffle = False,**dataflow_kwargs)\n",
    "\n",
    "    @staticmethod\n",
    "    def load_model(path : Path) -> tf.keras.Model:\n",
    "         return tf.keras.models.load_model(path)\n",
    "    \n",
    "\n",
    "    def evaluation(self):\n",
    "         self.model = self.load_model(self.config.path_of_model)\n",
    "         self.get_valid_generator()\n",
    "         self.score = self.model.evaluate(self.valid_generator)\n",
    "\n",
    "    def save_score(self):\n",
    "         scores = {\"loss\" : self.score[0] , \"accuracy\" : self.score[1]}\n",
    "         save_json(path = Path(\"scores.json\"),data = scores)\n"
   ]
  },
  {
   "cell_type": "code",
   "execution_count": 11,
   "metadata": {},
   "outputs": [
    {
     "name": "stdout",
     "output_type": "stream",
     "text": [
      "[2023-08-14 15:57:36,913: INFO: common: yaml file : config\\config.yaml loaded sucesfully]\n",
      "[2023-08-14 15:57:36,929: INFO: common: yaml file : params.yaml loaded sucesfully]\n",
      "[2023-08-14 15:57:36,936: INFO: common: Create directory at : artifacts]\n"
     ]
    },
    {
     "name": "stdout",
     "output_type": "stream",
     "text": [
      "Found 78 images belonging to 2 classes.\n",
      "5/5 [==============================] - 244s 46s/step - loss: 1.2842 - accuracy: 0.8462\n"
     ]
    }
   ],
   "source": [
    "# creating pipeline\n",
    "\n",
    "try:\n",
    "    configuartion_manager = ConfigurationManager()\n",
    "    evaluation_config  = configuartion_manager.get_evaluation_config()\n",
    "    evaluation = Evaluation(evaluation_config)\n",
    "    evaluation.evaluation()\n",
    "    evaluation.save_score()\n",
    "except Exception as e:\n",
    "    raise e"
   ]
  }
 ],
 "metadata": {
  "kernelspec": {
   "display_name": "chicken",
   "language": "python",
   "name": "python3"
  },
  "language_info": {
   "codemirror_mode": {
    "name": "ipython",
    "version": 3
   },
   "file_extension": ".py",
   "mimetype": "text/x-python",
   "name": "python",
   "nbconvert_exporter": "python",
   "pygments_lexer": "ipython3",
   "version": "3.8.17"
  },
  "orig_nbformat": 4
 },
 "nbformat": 4,
 "nbformat_minor": 2
}
